{
 "cells": [
  {
   "cell_type": "markdown",
   "id": "71c44e2d",
   "metadata": {},
   "source": [
    "# Apply GBDT on Final Data"
   ]
  },
  {
   "cell_type": "code",
   "execution_count": 1,
   "id": "8076aef5",
   "metadata": {},
   "outputs": [],
   "source": [
    "from lightgbm import LGBMClassifier\n",
    "import pandas as pd\n",
    "import numpy as np\n",
    "from sklearn.metrics import f1_score\n",
    "import os\n",
    "import warnings\n",
    "warnings.filterwarnings('ignore')"
   ]
  },
  {
   "cell_type": "markdown",
   "id": "209a084f",
   "metadata": {},
   "source": [
    "### Steps: \n",
    "1. Create Train, Test and CV sets such that the class distribution is balanced \n",
    "2. Use test_df to create Test and CV sets\n",
    "3. Create a custom implementation of RandomSearchCV where you feed the Train set for training and CV set for cross validation\n",
    "4. Select the set of hyperparameter values which yield the best performance\n",
    "5. Build the best model using above values and evaluate the performance on Test set."
   ]
  },
  {
   "cell_type": "markdown",
   "id": "033cea88",
   "metadata": {},
   "source": [
    "### Approach: \n",
    "1. Split the df_train into 2 parts -> df_train0 and df_train1 which consists of records of classed 0 and 1 respectively\n",
    "2. Randomly select 100000 rows from df_train0 and df_train1\n",
    "3. Concat the dataframes together\n",
    "4. Repeat the same for df_test (select 50000 rows at random from df_test0 and df_test1 and concat)\n",
    "5. Create a Stratified Split from test data to get cv data."
   ]
  },
  {
   "cell_type": "code",
   "execution_count": 2,
   "id": "d0b250e5",
   "metadata": {},
   "outputs": [
    {
     "name": "stdout",
     "output_type": "stream",
     "text": [
      "CPU times: user 43 s, sys: 10.1 s, total: 53.1 s\n",
      "Wall time: 53.1 s\n"
     ]
    }
   ],
   "source": [
    "%%time\n",
    "df_train = pd.read_hdf('saved_after_fea/storage_stage6.h5', 'train_df',mode='r')\n",
    "df_train0 = df_train[df_train['indicator_link']==0].reset_index(drop=True)\n",
    "df_train1 = df_train[df_train['indicator_link']==1].reset_index(drop=True)"
   ]
  },
  {
   "cell_type": "code",
   "execution_count": 6,
   "id": "1acec972",
   "metadata": {},
   "outputs": [
    {
     "name": "stdout",
     "output_type": "stream",
     "text": [
      "CPU times: user 10.7 s, sys: 2.53 s, total: 13.2 s\n",
      "Wall time: 13.2 s\n"
     ]
    }
   ],
   "source": [
    "%%time\n",
    "df_test = pd.read_hdf('saved_after_fea/storage_stage6.h5', 'test_df',mode='r')\n",
    "df_test0 = df_test[df_test['indicator_link']==0].reset_index(drop=True)\n",
    "df_test1 = df_test[df_test['indicator_link']==1].reset_index(drop=True)"
   ]
  },
  {
   "cell_type": "markdown",
   "id": "5d772d36",
   "metadata": {},
   "source": [
    "Note: We build our model using a sample of data and so we use the random module to select random rows from train_df and test_df"
   ]
  },
  {
   "cell_type": "code",
   "execution_count": 3,
   "id": "fce3097d",
   "metadata": {},
   "outputs": [],
   "source": [
    "import random\n",
    "n_train =  7550015 #size of df_train0/df_train1\n",
    "s = 100000 #desired sample size\n",
    "select_rows_train = sorted(random.sample(range(0,n_train),s)) #indices of rows that we want to skip\n",
    "\n",
    "n_test = 1887504 #size of df_test0/df_test1\n",
    "s = 50000 #desired sample size\n",
    "select_rows_test = sorted(random.sample(range(0,n_test),s)) #indices of rows that we want to skip"
   ]
  },
  {
   "cell_type": "code",
   "execution_count": 4,
   "id": "fb6398ea",
   "metadata": {},
   "outputs": [],
   "source": [
    "df_train0 = df_train0.iloc[select_rows_train,:]\n",
    "df_train1 = df_train1.iloc[select_rows_train,:]\n",
    "df_train = pd.concat([df_train0, df_train1], ignore_index=True)"
   ]
  },
  {
   "cell_type": "code",
   "execution_count": 7,
   "id": "17b44659",
   "metadata": {},
   "outputs": [],
   "source": [
    "df_test0 = df_test0.iloc[select_rows_test,:]\n",
    "df_test1 = df_test1.iloc[select_rows_test,:]\n",
    "df_test = pd.concat([df_test0, df_test1], ignore_index=True)"
   ]
  },
  {
   "cell_type": "code",
   "execution_count": 8,
   "id": "f9f55599",
   "metadata": {},
   "outputs": [
    {
     "data": {
      "text/plain": [
       "((200000, 59), (100000, 59))"
      ]
     },
     "execution_count": 8,
     "metadata": {},
     "output_type": "execute_result"
    }
   ],
   "source": [
    "df_train.shape, df_test.shape"
   ]
  },
  {
   "cell_type": "code",
   "execution_count": 14,
   "id": "1ade750d",
   "metadata": {},
   "outputs": [],
   "source": [
    "X_train = df_train.drop(columns=['source_node', 'destination_node','indicator_link'])\n",
    "y_train = df_train['indicator_link']\n",
    "\n",
    "X_test = df_test.drop(columns=['source_node', 'destination_node','indicator_link'])\n",
    "y_test = df_test['indicator_link']"
   ]
  },
  {
   "cell_type": "code",
   "execution_count": 15,
   "id": "6877d29a",
   "metadata": {},
   "outputs": [],
   "source": [
    "from sklearn.model_selection import train_test_split\n",
    "X_test, X_cv, y_test, y_cv = train_test_split(X_test, y_test, test_size = 0.5, stratify=y_test, random_state=42)"
   ]
  },
  {
   "cell_type": "code",
   "execution_count": 18,
   "id": "5df5bfb7",
   "metadata": {},
   "outputs": [
    {
     "name": "stdout",
     "output_type": "stream",
     "text": [
      "Class Distribution in Train:\n",
      " 0    0.5\n",
      "1    0.5\n",
      "Name: indicator_link, dtype: float64 \n",
      "Class Distribution in Test:\n",
      " 0    0.5\n",
      "1    0.5\n",
      "Name: indicator_link, dtype: float64 \n",
      "Class Distribution in CV:\n",
      " 0    0.5\n",
      "1    0.5\n",
      "Name: indicator_link, dtype: float64\n"
     ]
    }
   ],
   "source": [
    "print('Class Distribution in Train:\\n',y_train.value_counts(normalize=True),\n",
    "      '\\nClass Distribution in Test:\\n',y_test.value_counts(normalize=True),\n",
    "     '\\nClass Distribution in CV:\\n',y_cv.value_counts(normalize=True))"
   ]
  },
  {
   "cell_type": "markdown",
   "id": "36fd8cf2",
   "metadata": {},
   "source": [
    "# Building an LGBM Classifier \n",
    "- We use LGBM instead of XGBoost because LightGBM performs faster and keeps memory usage to low"
   ]
  },
  {
   "cell_type": "code",
   "execution_count": 37,
   "id": "5adf2c53",
   "metadata": {},
   "outputs": [],
   "source": [
    "def batch_predict(clf, data):\n",
    "    #store the probability values in the below list\n",
    "    y_prob = []\n",
    "    \n",
    "    rem = data.shape[0]%1000\n",
    "    loop = data.shape[0] - rem\n",
    "    for i in range(0, loop, 1000):\n",
    "        y_prob.extend(clf.predict_proba(data[i:1000+i])[:,1]) #[:, 1] gives all values in column 1 that represents project approved\n",
    "    \n",
    "    #predict the probabilities for remaining rows\n",
    "    if rem!=0:\n",
    "        y_prob.extend(clf.predict_proba(data[loop:])[:,1])\n",
    "    return y_prob"
   ]
  },
  {
   "cell_type": "code",
   "execution_count": 21,
   "id": "901d8f3c",
   "metadata": {},
   "outputs": [],
   "source": [
    "import matplotlib.pyplot as plt\n",
    "import seaborn as sns"
   ]
  },
  {
   "cell_type": "code",
   "execution_count": 22,
   "id": "7cc3c3e5",
   "metadata": {},
   "outputs": [],
   "source": [
    "from sklearn.metrics import confusion_matrix\n",
    "def plot_confusion_matrix(test_y, predict_y):\n",
    "    C = confusion_matrix(test_y, predict_y)\n",
    "    \n",
    "    A =(((C.T)/(C.sum(axis=1))).T)\n",
    "    \n",
    "    B =(C/C.sum(axis=0))\n",
    "    plt.figure(figsize=(20,4))\n",
    "    \n",
    "    labels = [0,1]\n",
    "    # representing A in heatmap format\n",
    "    cmap=sns.light_palette(\"blue\")\n",
    "    plt.subplot(1, 3, 1)\n",
    "    sns.heatmap(C, annot=True, cmap=cmap, fmt=\".3f\", xticklabels=labels, yticklabels=labels)\n",
    "    plt.xlabel('Predicted Class')\n",
    "    plt.ylabel('Original Class')\n",
    "    plt.title(\"Confusion matrix\")\n",
    "    \n",
    "    plt.subplot(1, 3, 2)\n",
    "    sns.heatmap(B, annot=True, cmap=cmap, fmt=\".3f\", xticklabels=labels, yticklabels=labels)\n",
    "    plt.xlabel('Predicted Class')\n",
    "    plt.ylabel('Original Class')\n",
    "    plt.title(\"Precision matrix\")\n",
    "    \n",
    "    plt.subplot(1, 3, 3)\n",
    "    # representing B in heatmap format\n",
    "    sns.heatmap(A, annot=True, cmap=cmap, fmt=\".3f\", xticklabels=labels, yticklabels=labels)\n",
    "    plt.xlabel('Predicted Class')\n",
    "    plt.ylabel('Original Class')\n",
    "    plt.title(\"Recall matrix\")\n",
    "    \n",
    "    plt.show()"
   ]
  },
  {
   "cell_type": "code",
   "execution_count": 26,
   "id": "02b9837d",
   "metadata": {},
   "outputs": [
    {
     "name": "stdout",
     "output_type": "stream",
     "text": [
      "Iteration 1 Scores: \n",
      "Train Score: 0.9681322264302376 , CV Score: 0.8783167993023002\n",
      "Iteration 2 Scores: \n",
      "Train Score: 0.9302025361490179 , CV Score: 0.8668374706654897\n",
      "Iteration 3 Scores: \n",
      "Train Score: 0.9890691982571025 , CV Score: 0.9275792598876047\n",
      "Iteration 4 Scores: \n",
      "Train Score: 0.9767423080029073 , CV Score: 0.8932390554755358\n",
      "Iteration 5 Scores: \n",
      "Train Score: 0.9972863365543483 , CV Score: 0.9112719128225008\n",
      "Iteration 6 Scores: \n",
      "Train Score: 0.9904260820234253 , CV Score: 0.8941300019690638\n",
      "Iteration 7 Scores: \n",
      "Train Score: 0.971163967611336 , CV Score: 0.929926116151304\n",
      "Iteration 8 Scores: \n",
      "Train Score: 0.9794784117329621 , CV Score: 0.8889863205892669\n",
      "Iteration 9 Scores: \n",
      "Train Score: 0.9655895739972198 , CV Score: 0.8774421187898853\n",
      "Iteration 10 Scores: \n",
      "Train Score: 0.9849462149189451 , CV Score: 0.9139572788882216\n"
     ]
    }
   ],
   "source": [
    "#set seed for reproducibility\n",
    "random.seed(15)\n",
    "\n",
    "n_iter = 10 \n",
    "params = {'n_estimators':[100, 250, 500, 1000, 2000],'colsample_bytree':[0.2,0.3,0.4,0.5,0.6],'max_depth':[5,8,10,12,15], \n",
    "          'subsample': [0.3, 0.4, 0.5, 0.6], 'min_child_weight':[0.01, 0.05, 0.1, 0.2, 0.5, 1],\n",
    "          'learning_rate':[0.001, 0.01, 0.05, 0.1, 0.2, 0.3]}\n",
    "\n",
    "#this dict stores the parameter values selected at each iteration \n",
    "selected_params = {'n_estimators':[],'colsample_bytree':[], 'max_depth':[], 'subsample': [], \n",
    "                   'min_child_weight':[], 'learning_rate':[]}\n",
    "\n",
    "#the below lists store the f1 scores at each iteration \n",
    "train_scores = []\n",
    "cv_scores = []\n",
    "\n",
    "for i in range(1,n_iter+1):\n",
    "    #use random.choice to select random values for each parameter from params dict\n",
    "    #append the values to selected_params dict\n",
    "    for k,v in list(params.items()):\n",
    "        selected_params[k].append(random.choice(v))\n",
    "    \n",
    "    #use the selected values to build the classifier\n",
    "    #fit the classifier on train set\n",
    "    lgbm_rand = LGBMClassifier(n_estimators = selected_params['n_estimators'][-1], colsample_bytree = selected_params['colsample_bytree'][-1],\n",
    "                               max_depth = selected_params['max_depth'][-1], subsample = selected_params['subsample'][-1], \n",
    "                               min_child_weight = selected_params['min_child_weight'][-1], learning_rate = selected_params['learning_rate'][-1]\n",
    "                               ,objective = 'binary', n_jobs=-1, random_state = 42)\n",
    "    lgbm_rand.fit(X_train,y_train)\n",
    "    \n",
    "    #get predicted values for train and cv sets\n",
    "    y_train_pred = lgbm_rand.predict(X_train)\n",
    "    y_cv_pred = lgbm_rand.predict(X_cv)\n",
    "    \n",
    "    #compute the f1 scores and store them in lists\n",
    "    train_scores.append(f1_score(y_train,y_train_pred))\n",
    "    cv_scores.append(f1_score(y_cv,y_cv_pred))\n",
    "    \n",
    "    #print the scores \n",
    "    print(f'Iteration {i} Scores:', '\\nTrain Score:', train_scores[-1], ', CV Score:', cv_scores[-1])"
   ]
  },
  {
   "cell_type": "markdown",
   "id": "77e5179b",
   "metadata": {},
   "source": [
    "Clearly, the model at iteration 7 yields the best cv scores so we evaluate that model on our test set."
   ]
  },
  {
   "cell_type": "code",
   "execution_count": 29,
   "id": "8fa2c228",
   "metadata": {},
   "outputs": [],
   "source": [
    "#selecting the parameter values that yield the best results \n",
    "best_params = {}\n",
    "for k in selected_params.keys():\n",
    "    best_params[k] = selected_params[k][6]"
   ]
  },
  {
   "cell_type": "code",
   "execution_count": 30,
   "id": "92245025",
   "metadata": {},
   "outputs": [
    {
     "data": {
      "text/plain": [
       "{'n_estimators': 1000,\n",
       " 'colsample_bytree': 0.6,\n",
       " 'max_depth': 10,\n",
       " 'subsample': 0.6,\n",
       " 'min_child_weight': 0.2,\n",
       " 'learning_rate': 0.001}"
      ]
     },
     "execution_count": 30,
     "metadata": {},
     "output_type": "execute_result"
    }
   ],
   "source": [
    "best_params"
   ]
  },
  {
   "cell_type": "code",
   "execution_count": 32,
   "id": "9280324e",
   "metadata": {},
   "outputs": [
    {
     "data": {
      "text/plain": [
       "LGBMClassifier(colsample_bytree=0.6, learning_rate=0.001, max_depth=10,\n",
       "               min_child_weight=0.2, n_estimators=1000, objective='binary',\n",
       "               random_state=42, subsample=0.6)"
      ]
     },
     "execution_count": 32,
     "metadata": {},
     "output_type": "execute_result"
    }
   ],
   "source": [
    "best_n_estimators = best_params['n_estimators']\n",
    "best_learning_rate = best_params['learning_rate']\n",
    "best_max_depth = best_params['max_depth']\n",
    "best_colsample_bytree = best_params['colsample_bytree']\n",
    "best_subsample = best_params['subsample']\n",
    "best_min_child_weight = best_params['min_child_weight']\n",
    "\n",
    "lgbm_best_params = LGBMClassifier(n_estimators = best_n_estimators, max_depth = best_max_depth, colsample_bytree = best_colsample_bytree, \n",
    "                                  subsample = best_subsample, learning_rate = best_learning_rate, min_child_weight = best_min_child_weight, \n",
    "                                  objective = 'binary', n_jobs=-1,random_state = 42)\n",
    "lgbm_best_params.fit(X_train, y_train)"
   ]
  },
  {
   "cell_type": "code",
   "execution_count": 33,
   "id": "4a17bbbf",
   "metadata": {},
   "outputs": [],
   "source": [
    "#get predicted values for train and test sets\n",
    "y_train_pred = lgbm_best_params.predict(X_train)\n",
    "y_test_pred = lgbm_best_params.predict(X_test)"
   ]
  },
  {
   "cell_type": "markdown",
   "id": "1e4ff9ca",
   "metadata": {},
   "source": [
    "# Performance of Model"
   ]
  },
  {
   "cell_type": "markdown",
   "id": "93827dbc",
   "metadata": {},
   "source": [
    "### Primary Metric : F1 Score"
   ]
  },
  {
   "cell_type": "code",
   "execution_count": 34,
   "id": "b8ebf0a6",
   "metadata": {},
   "outputs": [
    {
     "name": "stdout",
     "output_type": "stream",
     "text": [
      "Train F1 Score 0.971163967611336\n",
      "Test F1 Score 0.9321016166281755\n"
     ]
    }
   ],
   "source": [
    "from sklearn.metrics import f1_score\n",
    "print('Train F1 Score',f1_score(y_train,y_train_pred))\n",
    "print('Test F1 Score',f1_score(y_test,y_test_pred))"
   ]
  },
  {
   "cell_type": "markdown",
   "id": "f86b628a",
   "metadata": {},
   "source": [
    "### Confusion, Precision and Recall Matrices"
   ]
  },
  {
   "cell_type": "code",
   "execution_count": 35,
   "id": "88d75e63",
   "metadata": {},
   "outputs": [
    {
     "name": "stdout",
     "output_type": "stream",
     "text": [
      "Performance on Train represented through Matrices:\n"
     ]
    },
    {
     "data": {
      "image/png": "[encoded data removed]",
      "text/plain": [
       "<Figure size 1440x288 with 6 Axes>"
      ]
     },
     "metadata": {
      "needs_background": "light"
     },
     "output_type": "display_data"
    },
    {
     "name": "stdout",
     "output_type": "stream",
     "text": [
      "Performance on Test represented through Matrices:\n"
     ]
    },
    {
     "data": {
      "image/png": "[encoded data removed]",
      "text/plain": [
       "<Figure size 1440x288 with 6 Axes>"
      ]
     },
     "metadata": {
      "needs_background": "light"
     },
     "output_type": "display_data"
    }
   ],
   "source": [
    "print('Performance on Train represented through Matrices:')\n",
    "plot_confusion_matrix(y_train,y_train_pred)\n",
    "print('Performance on Test represented through Matrices:')\n",
    "plot_confusion_matrix(y_test,y_test_pred)"
   ]
  },
  {
   "cell_type": "markdown",
   "id": "67a6c249",
   "metadata": {},
   "source": [
    "### ROC AUC Score"
   ]
  },
  {
   "cell_type": "code",
   "execution_count": 38,
   "id": "35050a36",
   "metadata": {},
   "outputs": [],
   "source": [
    "from sklearn.metrics import roc_curve, auc\n",
    "\n",
    "#y_train_prob and y_test_prob are both list of probabilities of a directed edge being present labeled by 1 \n",
    "y_train_prob = batch_predict(lgbm_best_params, X_train)\n",
    "y_test_prob = batch_predict(lgbm_best_params, X_test)\n",
    "\n",
    "#roc_curve takes different thresholds of probability every time to separate classes then calculates tpr and fpr for each threshold\n",
    "#tpr and fpr values are then used in plotting the roc curve \n",
    "#the area under roc curve depicts the potential of a model at predicting classes if given an optimal threshold\n",
    "train_fpr, train_tpr, tr_thresholds = roc_curve(y_train, y_train_prob)\n",
    "test_fpr, test_tpr, te_thresholds = roc_curve(y_test, y_test_prob)"
   ]
  },
  {
   "cell_type": "code",
   "execution_count": 39,
   "id": "cfca74f0",
   "metadata": {},
   "outputs": [
    {
     "data": {
      "image/png": "[encoded data removed]",
      "text/plain": [
       "<Figure size 720x432 with 1 Axes>"
      ]
     },
     "metadata": {
      "needs_background": "light"
     },
     "output_type": "display_data"
    }
   ],
   "source": [
    "# Plot the ROC curves using the probability predictions made on train and test data.\n",
    "plt.figure(figsize=(10,6))\n",
    "\n",
    "plt.plot(train_fpr, train_tpr, label='Train AUC = '+str(auc(train_fpr, train_tpr)))\n",
    "plt.plot(test_fpr, test_tpr, label='Test AUC = '+str(auc(test_fpr, test_tpr)))\n",
    "\n",
    "plt.xlabel(\"False Positive Rate\")\n",
    "plt.ylabel(\"True Positive Rate\")\n",
    "plt.title(\"TPR vs FPR: TFIDF Set\")\n",
    "plt.legend()\n",
    "plt.grid()\n",
    "plt.show()"
   ]
  },
  {
   "cell_type": "markdown",
   "id": "f1f998bc",
   "metadata": {},
   "source": [
    "# Summary"
   ]
  },
  {
   "cell_type": "code",
   "execution_count": 40,
   "id": "c99fec1e",
   "metadata": {},
   "outputs": [
    {
     "name": "stdout",
     "output_type": "stream",
     "text": [
      "+----------+-------------+------+------+\n",
      "|  Model   | Hyperparams |  F1  | AUC  |\n",
      "+----------+-------------+------+------+\n",
      "| LightGBM |      6      | 0.93 | 0.95 |\n",
      "+----------+-------------+------+------+\n"
     ]
    }
   ],
   "source": [
    "from prettytable import PrettyTable\n",
    "x = PrettyTable()\n",
    "x.field_names = [\"Model\", \"Hyperparams\", \"F1\", \"AUC\"]\n",
    "x.add_rows(\n",
    "    [\n",
    "        [\"LightGBM\", 6, 0.93, 0.95]\n",
    "     \n",
    "    ]\n",
    ")\n",
    "\n",
    "print(x)"
   ]
  }
 ],
 "metadata": {
  "kernelspec": {
   "display_name": "Python 3",
   "language": "python",
   "name": "python3"
  },
  "language_info": {
   "codemirror_mode": {
    "name": "ipython",
    "version": 3
   },
   "file_extension": ".py",
   "mimetype": "text/x-python",
   "name": "python",
   "nbconvert_exporter": "python",
   "pygments_lexer": "ipython3",
   "version": "3.7.12"
  }
 },
 "nbformat": 4,
 "nbformat_minor": 5
}
